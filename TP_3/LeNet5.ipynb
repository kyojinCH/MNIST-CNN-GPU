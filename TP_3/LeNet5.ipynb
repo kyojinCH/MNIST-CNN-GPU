{
 "cells": [
  {
   "cell_type": "code",
   "id": "a490f7a0-cb6d-4048-87e6-3fa66ee45232",
   "metadata": {
    "ExecuteTime": {
     "end_time": "2025-01-07T22:49:25.998415Z",
     "start_time": "2025-01-07T22:49:25.990905Z"
    }
   },
   "source": [
    "import tensorflow as tf\n",
    "from tensorflow import keras\n",
    "import numpy as np\n",
    "from matplotlib import pyplot\n",
    "import os\n",
    "from keras.models import model_from_json"
   ],
   "outputs": [],
   "execution_count": 4
  },
  {
   "cell_type": "code",
   "id": "93d3031b-4533-4aec-a39f-02e28c2e70a7",
   "metadata": {
    "ExecuteTime": {
     "end_time": "2025-01-07T22:49:26.790427Z",
     "start_time": "2025-01-07T22:49:26.286800Z"
    }
   },
   "source": [
    "(train_x, train_y), (test_x, test_y) = keras.datasets.mnist.load_data()\n",
    "train_x = train_x / 255.0\n",
    "test_x = test_x / 255.0\n",
    "train_x.shape"
   ],
   "outputs": [
    {
     "data": {
      "text/plain": [
       "(60000, 28, 28)"
      ]
     },
     "execution_count": 5,
     "metadata": {},
     "output_type": "execute_result"
    }
   ],
   "execution_count": 5
  },
  {
   "metadata": {},
   "cell_type": "markdown",
   "source": "",
   "id": "b06db31210a427a1"
  },
  {
   "cell_type": "code",
   "id": "f25fabb6-19d5-49a4-9598-085544a8aab2",
   "metadata": {
    "ExecuteTime": {
     "end_time": "2025-01-07T22:49:26.850001Z",
     "start_time": "2025-01-07T22:49:26.792526Z"
    }
   },
   "source": [
    "train_x = tf.expand_dims(train_x, 3)\n",
    "test_x = tf.expand_dims(test_x, 3)\n",
    "val_x = train_x[:5000]\n",
    "val_y = train_y[:5000]\n",
    "train_x.shape"
   ],
   "outputs": [
    {
     "data": {
      "text/plain": [
       "TensorShape([60000, 28, 28, 1])"
      ]
     },
     "execution_count": 6,
     "metadata": {},
     "output_type": "execute_result"
    }
   ],
   "execution_count": 6
  },
  {
   "cell_type": "code",
   "id": "932346b8-8227-448e-aa93-8912ca971962",
   "metadata": {
    "ExecuteTime": {
     "end_time": "2025-01-07T22:49:27.265245Z",
     "start_time": "2025-01-07T22:49:27.130732Z"
    }
   },
   "source": [
    "lenet_5_model = keras.models.Sequential([\n",
    "    keras.layers.Conv2D(6, kernel_size=5, strides=1,  activation='tanh', input_shape=train_x[0].shape, padding='same'), #C1\n",
    "    keras.layers.AveragePooling2D(pool_size=2, strides = 2), #S2\n",
    "    keras.layers.Conv2D(16, kernel_size=5, strides=1, activation='tanh', padding='valid'), #C3\n",
    "    keras.layers.AveragePooling2D(pool_size=2, strides = 2), #S4\n",
    "    keras.layers.Flatten(), #Flatten\n",
    "    keras.layers.Dense(120, activation='tanh'), #C5\n",
    "    keras.layers.Dense(84, activation='tanh'), #F6\n",
    "    keras.layers.Dense(10, activation='softmax') #Output layer\n",
    "])"
   ],
   "outputs": [
    {
     "name": "stderr",
     "output_type": "stream",
     "text": [
      "C:\\Users\\Mon PC\\AppData\\Roaming\\Python\\Python39\\site-packages\\keras\\src\\layers\\convolutional\\base_conv.py:107: UserWarning: Do not pass an `input_shape`/`input_dim` argument to a layer. When using Sequential models, prefer using an `Input(shape)` object as the first layer in the model instead.\n",
      "  super().__init__(activity_regularizer=activity_regularizer, **kwargs)\n"
     ]
    }
   ],
   "execution_count": 7
  },
  {
   "cell_type": "code",
   "id": "0f9c7fb0-964d-4279-8347-1533097d7c66",
   "metadata": {
    "ExecuteTime": {
     "end_time": "2025-01-07T22:49:28.850279Z",
     "start_time": "2025-01-07T22:49:28.834686Z"
    }
   },
   "source": [
    "lenet_5_model.compile(optimizer='adam',loss=keras.losses.sparse_categorical_crossentropy, metrics=['accuracy'])"
   ],
   "outputs": [],
   "execution_count": 8
  },
  {
   "cell_type": "code",
   "id": "c1dadc66-075f-4398-9849-4dc87647163f",
   "metadata": {
    "ExecuteTime": {
     "end_time": "2025-01-07T22:53:54.158582Z",
     "start_time": "2025-01-07T22:53:14.199277Z"
    }
   },
   "source": "lenet_5_model.fit(train_x, train_y, epochs=5, validation_data=(val_x, val_y))",
   "outputs": [
    {
     "name": "stdout",
     "output_type": "stream",
     "text": [
      "Epoch 1/5\n",
      "\u001B[1m1875/1875\u001B[0m \u001B[32m━━━━━━━━━━━━━━━━━━━━\u001B[0m\u001B[37m\u001B[0m \u001B[1m8s\u001B[0m 4ms/step - accuracy: 0.9956 - loss: 0.0132 - val_accuracy: 0.9960 - val_loss: 0.0155\n",
      "Epoch 2/5\n",
      "\u001B[1m1875/1875\u001B[0m \u001B[32m━━━━━━━━━━━━━━━━━━━━\u001B[0m\u001B[37m\u001B[0m \u001B[1m8s\u001B[0m 4ms/step - accuracy: 0.9955 - loss: 0.0139 - val_accuracy: 0.9980 - val_loss: 0.0071\n",
      "Epoch 3/5\n",
      "\u001B[1m1875/1875\u001B[0m \u001B[32m━━━━━━━━━━━━━━━━━━━━\u001B[0m\u001B[37m\u001B[0m \u001B[1m7s\u001B[0m 4ms/step - accuracy: 0.9967 - loss: 0.0103 - val_accuracy: 0.9960 - val_loss: 0.0136\n",
      "Epoch 4/5\n",
      "\u001B[1m1875/1875\u001B[0m \u001B[32m━━━━━━━━━━━━━━━━━━━━\u001B[0m\u001B[37m\u001B[0m \u001B[1m9s\u001B[0m 5ms/step - accuracy: 0.9967 - loss: 0.0103 - val_accuracy: 0.9978 - val_loss: 0.0066\n",
      "Epoch 5/5\n",
      "\u001B[1m1875/1875\u001B[0m \u001B[32m━━━━━━━━━━━━━━━━━━━━\u001B[0m\u001B[37m\u001B[0m \u001B[1m8s\u001B[0m 4ms/step - accuracy: 0.9977 - loss: 0.0081 - val_accuracy: 0.9966 - val_loss: 0.0096\n"
     ]
    },
    {
     "data": {
      "text/plain": [
       "<keras.src.callbacks.history.History at 0x154db823b20>"
      ]
     },
     "execution_count": 23,
     "metadata": {},
     "output_type": "execute_result"
    }
   ],
   "execution_count": 23
  },
  {
   "cell_type": "code",
   "id": "b9886896-43dc-4831-a595-7f040928b87f",
   "metadata": {
    "ExecuteTime": {
     "end_time": "2025-01-07T22:53:54.910493Z",
     "start_time": "2025-01-07T22:53:54.160390Z"
    }
   },
   "source": [
    "lenet_5_model.evaluate(test_x, test_y)"
   ],
   "outputs": [
    {
     "name": "stdout",
     "output_type": "stream",
     "text": [
      "\u001B[1m313/313\u001B[0m \u001B[32m━━━━━━━━━━━━━━━━━━━━\u001B[0m\u001B[37m\u001B[0m \u001B[1m1s\u001B[0m 2ms/step - accuracy: 0.9846 - loss: 0.0531\n"
     ]
    },
    {
     "data": {
      "text/plain": [
       "[0.04302654042840004, 0.9879000186920166]"
      ]
     },
     "execution_count": 24,
     "metadata": {},
     "output_type": "execute_result"
    }
   ],
   "execution_count": 24
  },
  {
   "cell_type": "code",
   "id": "e6e8ca62-f863-4e73-acac-25cd7c8d91f9",
   "metadata": {
    "ExecuteTime": {
     "end_time": "2025-01-07T22:53:55.268372Z",
     "start_time": "2025-01-07T22:53:54.912293Z"
    }
   },
   "source": [
    "for i in range(3):  \n",
    "    pyplot.subplot(330 + 1 + i)\n",
    "    pyplot.imshow(train_x[i], cmap=pyplot.get_cmap('gray'))\n",
    "    pyplot.show()"
   ],
   "outputs": [
    {
     "data": {
      "text/plain": [
       "<Figure size 640x480 with 1 Axes>"
      ],
      "image/png": "[encoded data removed]"
     },
     "metadata": {},
     "output_type": "display_data"
    },
    {
     "data": {
      "text/plain": [
       "<Figure size 640x480 with 1 Axes>"
      ],
      "image/png": "[encoded data removed]"
     },
     "metadata": {},
     "output_type": "display_data"
    },
    {
     "data": {
      "text/plain": [
       "<Figure size 640x480 with 1 Axes>"
      ],
      "image/png": "[encoded data removed]"
     },
     "metadata": {},
     "output_type": "display_data"
    }
   ],
   "execution_count": 25
  },
  {
   "cell_type": "code",
   "id": "329cc15c-9b02-462d-b4e3-5b9d4c765bd8",
   "metadata": {
    "ExecuteTime": {
     "end_time": "2025-01-07T22:53:55.323916Z",
     "start_time": "2025-01-07T22:53:55.270734Z"
    }
   },
   "source": [
    "lenet_5_model.save('lenet_5_model.keras')\n",
    "print(os.listdir('.'))"
   ],
   "outputs": [
    {
     "name": "stdout",
     "output_type": "stream",
     "text": [
      "['exported_weights', 'fashionmnist_model.json', 'FashionMNIST_weights.weights.h5', 'LeNet5.ipynb', 'lenet_5_model.h5', 'lenet_5_model.keras', 'my.h5', 'my.keras', 'printMNIST.cu', 'ressources.zip', 'train-images.idx3-ubyte']\n"
     ]
    }
   ],
   "execution_count": 26
  },
  {
   "cell_type": "code",
   "id": "d883f56b-b134-4d81-aedb-1a0213cf2e5a",
   "metadata": {
    "ExecuteTime": {
     "end_time": "2025-01-07T22:53:55.372440Z",
     "start_time": "2025-01-07T22:53:55.326049Z"
    }
   },
   "source": "lenet_5_model.save(\"my.keras\")",
   "outputs": [],
   "execution_count": 27
  },
  {
   "cell_type": "code",
   "id": "e4039b16-8b65-4686-8e77-d8933555c2b1",
   "metadata": {
    "ExecuteTime": {
     "end_time": "2025-01-07T22:53:55.402834Z",
     "start_time": "2025-01-07T22:53:55.373446Z"
    }
   },
   "source": [
    "lenet_5_model.summary()"
   ],
   "outputs": [
    {
     "data": {
      "text/plain": [
       "\u001B[1mModel: \"sequential\"\u001B[0m\n"
      ],
      "text/html": [
       "<pre style=\"white-space:pre;overflow-x:auto;line-height:normal;font-family:Menlo,'DejaVu Sans Mono',consolas,'Courier New',monospace\"><span style=\"font-weight: bold\">Model: \"sequential\"</span>\n",
       "</pre>\n"
      ]
     },
     "metadata": {},
     "output_type": "display_data"
    },
    {
     "data": {
      "text/plain": [
       "┏━━━━━━━━━━━━━━━━━━━━━━━━━━━━━━━━━┳━━━━━━━━━━━━━━━━━━━━━━━━┳━━━━━━━━━━━━━━━┓\n",
       "┃\u001B[1m \u001B[0m\u001B[1mLayer (type)                   \u001B[0m\u001B[1m \u001B[0m┃\u001B[1m \u001B[0m\u001B[1mOutput Shape          \u001B[0m\u001B[1m \u001B[0m┃\u001B[1m \u001B[0m\u001B[1m      Param #\u001B[0m\u001B[1m \u001B[0m┃\n",
       "┡━━━━━━━━━━━━━━━━━━━━━━━━━━━━━━━━━╇━━━━━━━━━━━━━━━━━━━━━━━━╇━━━━━━━━━━━━━━━┩\n",
       "│ conv2d (\u001B[38;5;33mConv2D\u001B[0m)                 │ (\u001B[38;5;45mNone\u001B[0m, \u001B[38;5;34m28\u001B[0m, \u001B[38;5;34m28\u001B[0m, \u001B[38;5;34m6\u001B[0m)      │           \u001B[38;5;34m156\u001B[0m │\n",
       "├─────────────────────────────────┼────────────────────────┼───────────────┤\n",
       "│ average_pooling2d               │ (\u001B[38;5;45mNone\u001B[0m, \u001B[38;5;34m14\u001B[0m, \u001B[38;5;34m14\u001B[0m, \u001B[38;5;34m6\u001B[0m)      │             \u001B[38;5;34m0\u001B[0m │\n",
       "│ (\u001B[38;5;33mAveragePooling2D\u001B[0m)              │                        │               │\n",
       "├─────────────────────────────────┼────────────────────────┼───────────────┤\n",
       "│ conv2d_1 (\u001B[38;5;33mConv2D\u001B[0m)               │ (\u001B[38;5;45mNone\u001B[0m, \u001B[38;5;34m10\u001B[0m, \u001B[38;5;34m10\u001B[0m, \u001B[38;5;34m16\u001B[0m)     │         \u001B[38;5;34m2,416\u001B[0m │\n",
       "├─────────────────────────────────┼────────────────────────┼───────────────┤\n",
       "│ average_pooling2d_1             │ (\u001B[38;5;45mNone\u001B[0m, \u001B[38;5;34m5\u001B[0m, \u001B[38;5;34m5\u001B[0m, \u001B[38;5;34m16\u001B[0m)       │             \u001B[38;5;34m0\u001B[0m │\n",
       "│ (\u001B[38;5;33mAveragePooling2D\u001B[0m)              │                        │               │\n",
       "├─────────────────────────────────┼────────────────────────┼───────────────┤\n",
       "│ flatten (\u001B[38;5;33mFlatten\u001B[0m)               │ (\u001B[38;5;45mNone\u001B[0m, \u001B[38;5;34m400\u001B[0m)            │             \u001B[38;5;34m0\u001B[0m │\n",
       "├─────────────────────────────────┼────────────────────────┼───────────────┤\n",
       "│ dense (\u001B[38;5;33mDense\u001B[0m)                   │ (\u001B[38;5;45mNone\u001B[0m, \u001B[38;5;34m120\u001B[0m)            │        \u001B[38;5;34m48,120\u001B[0m │\n",
       "├─────────────────────────────────┼────────────────────────┼───────────────┤\n",
       "│ dense_1 (\u001B[38;5;33mDense\u001B[0m)                 │ (\u001B[38;5;45mNone\u001B[0m, \u001B[38;5;34m84\u001B[0m)             │        \u001B[38;5;34m10,164\u001B[0m │\n",
       "├─────────────────────────────────┼────────────────────────┼───────────────┤\n",
       "│ dense_2 (\u001B[38;5;33mDense\u001B[0m)                 │ (\u001B[38;5;45mNone\u001B[0m, \u001B[38;5;34m10\u001B[0m)             │           \u001B[38;5;34m850\u001B[0m │\n",
       "└─────────────────────────────────┴────────────────────────┴───────────────┘\n"
      ],
      "text/html": [
       "<pre style=\"white-space:pre;overflow-x:auto;line-height:normal;font-family:Menlo,'DejaVu Sans Mono',consolas,'Courier New',monospace\">┏━━━━━━━━━━━━━━━━━━━━━━━━━━━━━━━━━┳━━━━━━━━━━━━━━━━━━━━━━━━┳━━━━━━━━━━━━━━━┓\n",
       "┃<span style=\"font-weight: bold\"> Layer (type)                    </span>┃<span style=\"font-weight: bold\"> Output Shape           </span>┃<span style=\"font-weight: bold\">       Param # </span>┃\n",
       "┡━━━━━━━━━━━━━━━━━━━━━━━━━━━━━━━━━╇━━━━━━━━━━━━━━━━━━━━━━━━╇━━━━━━━━━━━━━━━┩\n",
       "│ conv2d (<span style=\"color: #0087ff; text-decoration-color: #0087ff\">Conv2D</span>)                 │ (<span style=\"color: #00d7ff; text-decoration-color: #00d7ff\">None</span>, <span style=\"color: #00af00; text-decoration-color: #00af00\">28</span>, <span style=\"color: #00af00; text-decoration-color: #00af00\">28</span>, <span style=\"color: #00af00; text-decoration-color: #00af00\">6</span>)      │           <span style=\"color: #00af00; text-decoration-color: #00af00\">156</span> │\n",
       "├─────────────────────────────────┼────────────────────────┼───────────────┤\n",
       "│ average_pooling2d               │ (<span style=\"color: #00d7ff; text-decoration-color: #00d7ff\">None</span>, <span style=\"color: #00af00; text-decoration-color: #00af00\">14</span>, <span style=\"color: #00af00; text-decoration-color: #00af00\">14</span>, <span style=\"color: #00af00; text-decoration-color: #00af00\">6</span>)      │             <span style=\"color: #00af00; text-decoration-color: #00af00\">0</span> │\n",
       "│ (<span style=\"color: #0087ff; text-decoration-color: #0087ff\">AveragePooling2D</span>)              │                        │               │\n",
       "├─────────────────────────────────┼────────────────────────┼───────────────┤\n",
       "│ conv2d_1 (<span style=\"color: #0087ff; text-decoration-color: #0087ff\">Conv2D</span>)               │ (<span style=\"color: #00d7ff; text-decoration-color: #00d7ff\">None</span>, <span style=\"color: #00af00; text-decoration-color: #00af00\">10</span>, <span style=\"color: #00af00; text-decoration-color: #00af00\">10</span>, <span style=\"color: #00af00; text-decoration-color: #00af00\">16</span>)     │         <span style=\"color: #00af00; text-decoration-color: #00af00\">2,416</span> │\n",
       "├─────────────────────────────────┼────────────────────────┼───────────────┤\n",
       "│ average_pooling2d_1             │ (<span style=\"color: #00d7ff; text-decoration-color: #00d7ff\">None</span>, <span style=\"color: #00af00; text-decoration-color: #00af00\">5</span>, <span style=\"color: #00af00; text-decoration-color: #00af00\">5</span>, <span style=\"color: #00af00; text-decoration-color: #00af00\">16</span>)       │             <span style=\"color: #00af00; text-decoration-color: #00af00\">0</span> │\n",
       "│ (<span style=\"color: #0087ff; text-decoration-color: #0087ff\">AveragePooling2D</span>)              │                        │               │\n",
       "├─────────────────────────────────┼────────────────────────┼───────────────┤\n",
       "│ flatten (<span style=\"color: #0087ff; text-decoration-color: #0087ff\">Flatten</span>)               │ (<span style=\"color: #00d7ff; text-decoration-color: #00d7ff\">None</span>, <span style=\"color: #00af00; text-decoration-color: #00af00\">400</span>)            │             <span style=\"color: #00af00; text-decoration-color: #00af00\">0</span> │\n",
       "├─────────────────────────────────┼────────────────────────┼───────────────┤\n",
       "│ dense (<span style=\"color: #0087ff; text-decoration-color: #0087ff\">Dense</span>)                   │ (<span style=\"color: #00d7ff; text-decoration-color: #00d7ff\">None</span>, <span style=\"color: #00af00; text-decoration-color: #00af00\">120</span>)            │        <span style=\"color: #00af00; text-decoration-color: #00af00\">48,120</span> │\n",
       "├─────────────────────────────────┼────────────────────────┼───────────────┤\n",
       "│ dense_1 (<span style=\"color: #0087ff; text-decoration-color: #0087ff\">Dense</span>)                 │ (<span style=\"color: #00d7ff; text-decoration-color: #00d7ff\">None</span>, <span style=\"color: #00af00; text-decoration-color: #00af00\">84</span>)             │        <span style=\"color: #00af00; text-decoration-color: #00af00\">10,164</span> │\n",
       "├─────────────────────────────────┼────────────────────────┼───────────────┤\n",
       "│ dense_2 (<span style=\"color: #0087ff; text-decoration-color: #0087ff\">Dense</span>)                 │ (<span style=\"color: #00d7ff; text-decoration-color: #00d7ff\">None</span>, <span style=\"color: #00af00; text-decoration-color: #00af00\">10</span>)             │           <span style=\"color: #00af00; text-decoration-color: #00af00\">850</span> │\n",
       "└─────────────────────────────────┴────────────────────────┴───────────────┘\n",
       "</pre>\n"
      ]
     },
     "metadata": {},
     "output_type": "display_data"
    },
    {
     "data": {
      "text/plain": [
       "\u001B[1m Total params: \u001B[0m\u001B[38;5;34m185,120\u001B[0m (723.13 KB)\n"
      ],
      "text/html": [
       "<pre style=\"white-space:pre;overflow-x:auto;line-height:normal;font-family:Menlo,'DejaVu Sans Mono',consolas,'Courier New',monospace\"><span style=\"font-weight: bold\"> Total params: </span><span style=\"color: #00af00; text-decoration-color: #00af00\">185,120</span> (723.13 KB)\n",
       "</pre>\n"
      ]
     },
     "metadata": {},
     "output_type": "display_data"
    },
    {
     "data": {
      "text/plain": [
       "\u001B[1m Trainable params: \u001B[0m\u001B[38;5;34m61,706\u001B[0m (241.04 KB)\n"
      ],
      "text/html": [
       "<pre style=\"white-space:pre;overflow-x:auto;line-height:normal;font-family:Menlo,'DejaVu Sans Mono',consolas,'Courier New',monospace\"><span style=\"font-weight: bold\"> Trainable params: </span><span style=\"color: #00af00; text-decoration-color: #00af00\">61,706</span> (241.04 KB)\n",
       "</pre>\n"
      ]
     },
     "metadata": {},
     "output_type": "display_data"
    },
    {
     "data": {
      "text/plain": [
       "\u001B[1m Non-trainable params: \u001B[0m\u001B[38;5;34m0\u001B[0m (0.00 B)\n"
      ],
      "text/html": [
       "<pre style=\"white-space:pre;overflow-x:auto;line-height:normal;font-family:Menlo,'DejaVu Sans Mono',consolas,'Courier New',monospace\"><span style=\"font-weight: bold\"> Non-trainable params: </span><span style=\"color: #00af00; text-decoration-color: #00af00\">0</span> (0.00 B)\n",
       "</pre>\n"
      ]
     },
     "metadata": {},
     "output_type": "display_data"
    },
    {
     "data": {
      "text/plain": [
       "\u001B[1m Optimizer params: \u001B[0m\u001B[38;5;34m123,414\u001B[0m (482.09 KB)\n"
      ],
      "text/html": [
       "<pre style=\"white-space:pre;overflow-x:auto;line-height:normal;font-family:Menlo,'DejaVu Sans Mono',consolas,'Courier New',monospace\"><span style=\"font-weight: bold\"> Optimizer params: </span><span style=\"color: #00af00; text-decoration-color: #00af00\">123,414</span> (482.09 KB)\n",
       "</pre>\n"
      ]
     },
     "metadata": {},
     "output_type": "display_data"
    }
   ],
   "execution_count": 28
  },
  {
   "cell_type": "code",
   "id": "24d1a878-c7a2-4688-9dca-35ab8c5edd2c",
   "metadata": {
    "ExecuteTime": {
     "end_time": "2025-01-07T22:53:55.426737Z",
     "start_time": "2025-01-07T22:53:55.405062Z"
    }
   },
   "source": [
    "json_model = lenet_5_model.to_json()"
   ],
   "outputs": [],
   "execution_count": 29
  },
  {
   "cell_type": "code",
   "id": "c3a3b789-e537-4677-931e-6688b2786be7",
   "metadata": {
    "ExecuteTime": {
     "end_time": "2025-01-07T22:53:55.442631Z",
     "start_time": "2025-01-07T22:53:55.428817Z"
    }
   },
   "source": [
    "with open('fashionmnist_model.json', 'w') as json_file:\n",
    "    json_file.write(json_model)"
   ],
   "outputs": [],
   "execution_count": 30
  },
  {
   "cell_type": "code",
   "id": "14bd5eec-4991-4eed-ac6e-4d6d126a167d",
   "metadata": {
    "ExecuteTime": {
     "end_time": "2025-01-07T22:53:55.497441Z",
     "start_time": "2025-01-07T22:53:55.445613Z"
    }
   },
   "source": "lenet_5_model.save_weights('FashionMNIST_weights.weights.h5')",
   "outputs": [],
   "execution_count": 31
  },
  {
   "metadata": {
    "ExecuteTime": {
     "end_time": "2025-01-07T22:53:55.672975Z",
     "start_time": "2025-01-07T22:53:55.500659Z"
    }
   },
   "cell_type": "code",
   "source": [
    "os.makedirs(\"exported_weights\", exist_ok=True)\n",
    "\n",
    "for i, layer in enumerate(lenet_5_model.layers):\n",
    "    w = layer.get_weights()\n",
    "    for j, arr in enumerate(w):\n",
    "        flat_arr = arr.flatten()\n",
    "\n",
    "        filename = f\"layer_{i}_{j}.txt\"\n",
    "        filepath = os.path.join(\"exported_weights\", filename)\n",
    "\n",
    "\n",
    "        np.savetxt(filepath, flat_arr, fmt='%.9f')\n",
    "\n",
    "        print(f\"Saved shape {arr.shape} to {filepath} with total elements {flat_arr.size}\")"
   ],
   "id": "15c4a5b5a83e9e2f",
   "outputs": [
    {
     "name": "stdout",
     "output_type": "stream",
     "text": [
      "Saved shape (5, 5, 1, 6) to exported_weights\\layer_0_0.txt with total elements 150\n",
      "Saved shape (6,) to exported_weights\\layer_0_1.txt with total elements 6\n",
      "Saved shape (5, 5, 6, 16) to exported_weights\\layer_2_0.txt with total elements 2400\n",
      "Saved shape (16,) to exported_weights\\layer_2_1.txt with total elements 16\n",
      "Saved shape (400, 120) to exported_weights\\layer_5_0.txt with total elements 48000\n",
      "Saved shape (120,) to exported_weights\\layer_5_1.txt with total elements 120\n",
      "Saved shape (120, 84) to exported_weights\\layer_6_0.txt with total elements 10080\n",
      "Saved shape (84,) to exported_weights\\layer_6_1.txt with total elements 84\n",
      "Saved shape (84, 10) to exported_weights\\layer_7_0.txt with total elements 840\n",
      "Saved shape (10,) to exported_weights\\layer_7_1.txt with total elements 10\n"
     ]
    }
   ],
   "execution_count": 32
  },
  {
   "metadata": {
    "ExecuteTime": {
     "end_time": "2025-01-07T22:53:55.688251Z",
     "start_time": "2025-01-07T22:53:55.674779Z"
    }
   },
   "cell_type": "code",
   "source": [
    "with open('fashionmnist_model.json', 'r') as json_file:\n",
    "    json_model = json_file.read()\n",
    "json_model"
   ],
   "id": "80b9060010321257",
   "outputs": [
    {
     "data": {
      "text/plain": [
       "'{\"module\": \"keras\", \"class_name\": \"Sequential\", \"config\": {\"name\": \"sequential\", \"trainable\": true, \"dtype\": {\"module\": \"keras\", \"class_name\": \"DTypePolicy\", \"config\": {\"name\": \"float32\"}, \"registered_name\": null}, \"layers\": [{\"module\": \"keras.layers\", \"class_name\": \"InputLayer\", \"config\": {\"batch_shape\": [null, 28, 28, 1], \"dtype\": \"float32\", \"sparse\": false, \"name\": \"input_layer\"}, \"registered_name\": null}, {\"module\": \"keras.layers\", \"class_name\": \"Conv2D\", \"config\": {\"name\": \"conv2d\", \"trainable\": true, \"dtype\": {\"module\": \"keras\", \"class_name\": \"DTypePolicy\", \"config\": {\"name\": \"float32\"}, \"registered_name\": null}, \"filters\": 6, \"kernel_size\": [5, 5], \"strides\": [1, 1], \"padding\": \"same\", \"data_format\": \"channels_last\", \"dilation_rate\": [1, 1], \"groups\": 1, \"activation\": \"tanh\", \"use_bias\": true, \"kernel_initializer\": {\"module\": \"keras.initializers\", \"class_name\": \"GlorotUniform\", \"config\": {\"seed\": null}, \"registered_name\": null}, \"bias_initializer\": {\"module\": \"keras.initializers\", \"class_name\": \"Zeros\", \"config\": {}, \"registered_name\": null}, \"kernel_regularizer\": null, \"bias_regularizer\": null, \"activity_regularizer\": null, \"kernel_constraint\": null, \"bias_constraint\": null}, \"registered_name\": null, \"build_config\": {\"input_shape\": [null, 28, 28, 1]}}, {\"module\": \"keras.layers\", \"class_name\": \"AveragePooling2D\", \"config\": {\"name\": \"average_pooling2d\", \"trainable\": true, \"dtype\": {\"module\": \"keras\", \"class_name\": \"DTypePolicy\", \"config\": {\"name\": \"float32\"}, \"registered_name\": null}, \"pool_size\": [2, 2], \"padding\": \"valid\", \"strides\": [2, 2], \"data_format\": \"channels_last\"}, \"registered_name\": null}, {\"module\": \"keras.layers\", \"class_name\": \"Conv2D\", \"config\": {\"name\": \"conv2d_1\", \"trainable\": true, \"dtype\": {\"module\": \"keras\", \"class_name\": \"DTypePolicy\", \"config\": {\"name\": \"float32\"}, \"registered_name\": null}, \"filters\": 16, \"kernel_size\": [5, 5], \"strides\": [1, 1], \"padding\": \"valid\", \"data_format\": \"channels_last\", \"dilation_rate\": [1, 1], \"groups\": 1, \"activation\": \"tanh\", \"use_bias\": true, \"kernel_initializer\": {\"module\": \"keras.initializers\", \"class_name\": \"GlorotUniform\", \"config\": {\"seed\": null}, \"registered_name\": null}, \"bias_initializer\": {\"module\": \"keras.initializers\", \"class_name\": \"Zeros\", \"config\": {}, \"registered_name\": null}, \"kernel_regularizer\": null, \"bias_regularizer\": null, \"activity_regularizer\": null, \"kernel_constraint\": null, \"bias_constraint\": null}, \"registered_name\": null, \"build_config\": {\"input_shape\": [null, 14, 14, 6]}}, {\"module\": \"keras.layers\", \"class_name\": \"AveragePooling2D\", \"config\": {\"name\": \"average_pooling2d_1\", \"trainable\": true, \"dtype\": {\"module\": \"keras\", \"class_name\": \"DTypePolicy\", \"config\": {\"name\": \"float32\"}, \"registered_name\": null}, \"pool_size\": [2, 2], \"padding\": \"valid\", \"strides\": [2, 2], \"data_format\": \"channels_last\"}, \"registered_name\": null}, {\"module\": \"keras.layers\", \"class_name\": \"Flatten\", \"config\": {\"name\": \"flatten\", \"trainable\": true, \"dtype\": {\"module\": \"keras\", \"class_name\": \"DTypePolicy\", \"config\": {\"name\": \"float32\"}, \"registered_name\": null}, \"data_format\": \"channels_last\"}, \"registered_name\": null, \"build_config\": {\"input_shape\": [null, 5, 5, 16]}}, {\"module\": \"keras.layers\", \"class_name\": \"Dense\", \"config\": {\"name\": \"dense\", \"trainable\": true, \"dtype\": {\"module\": \"keras\", \"class_name\": \"DTypePolicy\", \"config\": {\"name\": \"float32\"}, \"registered_name\": null}, \"units\": 120, \"activation\": \"tanh\", \"use_bias\": true, \"kernel_initializer\": {\"module\": \"keras.initializers\", \"class_name\": \"GlorotUniform\", \"config\": {\"seed\": null}, \"registered_name\": null}, \"bias_initializer\": {\"module\": \"keras.initializers\", \"class_name\": \"Zeros\", \"config\": {}, \"registered_name\": null}, \"kernel_regularizer\": null, \"bias_regularizer\": null, \"kernel_constraint\": null, \"bias_constraint\": null}, \"registered_name\": null, \"build_config\": {\"input_shape\": [null, 400]}}, {\"module\": \"keras.layers\", \"class_name\": \"Dense\", \"config\": {\"name\": \"dense_1\", \"trainable\": true, \"dtype\": {\"module\": \"keras\", \"class_name\": \"DTypePolicy\", \"config\": {\"name\": \"float32\"}, \"registered_name\": null}, \"units\": 84, \"activation\": \"tanh\", \"use_bias\": true, \"kernel_initializer\": {\"module\": \"keras.initializers\", \"class_name\": \"GlorotUniform\", \"config\": {\"seed\": null}, \"registered_name\": null}, \"bias_initializer\": {\"module\": \"keras.initializers\", \"class_name\": \"Zeros\", \"config\": {}, \"registered_name\": null}, \"kernel_regularizer\": null, \"bias_regularizer\": null, \"kernel_constraint\": null, \"bias_constraint\": null}, \"registered_name\": null, \"build_config\": {\"input_shape\": [null, 120]}}, {\"module\": \"keras.layers\", \"class_name\": \"Dense\", \"config\": {\"name\": \"dense_2\", \"trainable\": true, \"dtype\": {\"module\": \"keras\", \"class_name\": \"DTypePolicy\", \"config\": {\"name\": \"float32\"}, \"registered_name\": null}, \"units\": 10, \"activation\": \"softmax\", \"use_bias\": true, \"kernel_initializer\": {\"module\": \"keras.initializers\", \"class_name\": \"GlorotUniform\", \"config\": {\"seed\": null}, \"registered_name\": null}, \"bias_initializer\": {\"module\": \"keras.initializers\", \"class_name\": \"Zeros\", \"config\": {}, \"registered_name\": null}, \"kernel_regularizer\": null, \"bias_regularizer\": null, \"kernel_constraint\": null, \"bias_constraint\": null}, \"registered_name\": null, \"build_config\": {\"input_shape\": [null, 84]}}], \"build_input_shape\": [null, 28, 28, 1]}, \"registered_name\": null, \"build_config\": {\"input_shape\": [null, 28, 28, 1]}, \"compile_config\": {\"optimizer\": {\"module\": \"keras.optimizers\", \"class_name\": \"Adam\", \"config\": {\"name\": \"adam\", \"learning_rate\": 0.0010000000474974513, \"weight_decay\": null, \"clipnorm\": null, \"global_clipnorm\": null, \"clipvalue\": null, \"use_ema\": false, \"ema_momentum\": 0.99, \"ema_overwrite_frequency\": null, \"loss_scale_factor\": null, \"gradient_accumulation_steps\": null, \"beta_1\": 0.9, \"beta_2\": 0.999, \"epsilon\": 1e-07, \"amsgrad\": false}, \"registered_name\": null}, \"loss\": {\"module\": \"builtins\", \"class_name\": \"function\", \"config\": \"sparse_categorical_crossentropy\", \"registered_name\": \"function\"}, \"loss_weights\": null, \"metrics\": [\"accuracy\"], \"weighted_metrics\": null, \"run_eagerly\": false, \"steps_per_execution\": 1, \"jit_compile\": false}}'"
      ]
     },
     "execution_count": 33,
     "metadata": {},
     "output_type": "execute_result"
    }
   ],
   "execution_count": 33
  },
  {
   "metadata": {
    "ExecuteTime": {
     "end_time": "2025-01-07T22:53:55.745021Z",
     "start_time": "2025-01-07T22:53:55.689438Z"
    }
   },
   "cell_type": "code",
   "source": [
    "weights = lenet_5_model.load_weights('FashionMNIST_weights.weights.h5')\n",
    "weights_names = [weight.name for weight in lenet_5_model.weights]\n"
   ],
   "id": "a4b9be42f3221487",
   "outputs": [],
   "execution_count": 34
  },
  {
   "cell_type": "code",
   "id": "929aed57-808a-4df6-a9f7-ce9eec9d4ba1",
   "metadata": {
    "ExecuteTime": {
     "end_time": "2025-01-07T22:53:55.760149Z",
     "start_time": "2025-01-07T22:53:55.747655Z"
    }
   },
   "source": [
    "lenet_5_model.layers[0].get_weights()[0]"
   ],
   "outputs": [
    {
     "data": {
      "text/plain": [
       "array([[[[-0.17452338,  0.28827026, -0.02634743, -0.09742   ,\n",
       "          -0.2040451 ,  0.14631951]],\n",
       "\n",
       "        [[-0.16654184,  0.14704949, -0.08805483, -0.0844092 ,\n",
       "          -0.2704496 ,  0.1338337 ]],\n",
       "\n",
       "        [[ 0.32177734, -0.26174545,  0.19592848, -0.35125986,\n",
       "          -0.4739847 , -0.07570743]],\n",
       "\n",
       "        [[ 0.17475025, -0.582962  ,  0.45446134, -0.22140206,\n",
       "          -0.36686212,  0.07267389]],\n",
       "\n",
       "        [[-0.33252954, -0.39679617,  0.2664059 , -0.4971693 ,\n",
       "          -0.406371  ,  0.24074458]]],\n",
       "\n",
       "\n",
       "       [[[ 0.12693562,  0.11719897,  0.05777502, -0.40782785,\n",
       "          -0.03157824,  0.35978773]],\n",
       "\n",
       "        [[ 0.89346427, -0.02888431,  0.3374329 , -0.46789435,\n",
       "           0.12414583,  0.2831564 ]],\n",
       "\n",
       "        [[ 0.791624  , -0.8308403 ,  0.84246296, -0.36817017,\n",
       "          -0.16339304,  0.3818516 ]],\n",
       "\n",
       "        [[ 0.21547027, -0.7812692 ,  0.7296725 , -0.12180714,\n",
       "           0.20671289,  0.44396853]],\n",
       "\n",
       "        [[-0.25946617, -0.1716859 ,  0.44709203, -0.02325556,\n",
       "          -0.1817616 ,  0.1374733 ]]],\n",
       "\n",
       "\n",
       "       [[[ 0.16078511,  0.33188447, -0.08805495, -0.39413267,\n",
       "           0.62834203, -0.16204584]],\n",
       "\n",
       "        [[ 0.76783186, -0.5004321 ,  0.2667643 , -0.01923465,\n",
       "           0.81019545, -0.19024839]],\n",
       "\n",
       "        [[ 0.5638563 , -1.3878866 ,  0.34887084,  0.35935944,\n",
       "           0.893899  ,  0.02223151]],\n",
       "\n",
       "        [[ 0.12749404, -0.22099733,  0.26340452,  0.46604034,\n",
       "           0.642333  ,  0.36107644]],\n",
       "\n",
       "        [[-0.29642704,  0.12109012, -0.01607706,  0.03192645,\n",
       "           0.42152324,  0.30851442]]],\n",
       "\n",
       "\n",
       "       [[[-0.08291256,  0.11502529, -0.4365743 , -0.25756237,\n",
       "           0.25215507, -0.51095337]],\n",
       "\n",
       "        [[ 0.15578032, -0.9468004 , -0.28441638,  0.53491515,\n",
       "           0.60891783, -0.54485077]],\n",
       "\n",
       "        [[-0.16644816, -0.64788026, -0.19587077,  0.6552147 ,\n",
       "           0.55629444, -0.35923767]],\n",
       "\n",
       "        [[-0.3827911 , -0.16194116, -0.31209028,  0.68294823,\n",
       "           0.36703447,  0.22190568]],\n",
       "\n",
       "        [[-0.3038973 ,  0.3421541 , -0.33397055,  0.29727912,\n",
       "           0.09437355, -0.06298928]]],\n",
       "\n",
       "\n",
       "       [[[-0.2805506 , -0.32888108, -0.34540582, -0.15713301,\n",
       "          -0.2657934 , -0.5275495 ]],\n",
       "\n",
       "        [[-0.12458485, -0.8914137 , -0.21652329,  0.30251464,\n",
       "          -0.55258614, -0.532607  ]],\n",
       "\n",
       "        [[-0.26697335, -0.30881518, -0.17478321,  0.46054062,\n",
       "          -0.38866252, -0.4541441 ]],\n",
       "\n",
       "        [[-0.44509104,  0.02089225, -0.43532923,  0.2843554 ,\n",
       "          -0.12754671,  0.29139334]],\n",
       "\n",
       "        [[-0.16382824,  0.49392116, -0.31127533, -0.34178728,\n",
       "          -0.07846082,  0.1224276 ]]]], dtype=float32)"
      ]
     },
     "execution_count": 35,
     "metadata": {},
     "output_type": "execute_result"
    }
   ],
   "execution_count": 35
  },
  {
   "metadata": {},
   "cell_type": "code",
   "outputs": [],
   "execution_count": null,
   "source": "",
   "id": "c29386684b3503ac"
  }
 ],
 "metadata": {
  "kernelspec": {
   "display_name": "Python 3 (ipykernel)",
   "language": "python",
   "name": "python3"
  },
  "language_info": {
   "codemirror_mode": {
    "name": "ipython",
    "version": 3
   },
   "file_extension": ".py",
   "mimetype": "text/x-python",
   "name": "python",
   "nbconvert_exporter": "python",
   "pygments_lexer": "ipython3",
   "version": "3.7.11"
  }
 },
 "nbformat": 4,
 "nbformat_minor": 5
}
